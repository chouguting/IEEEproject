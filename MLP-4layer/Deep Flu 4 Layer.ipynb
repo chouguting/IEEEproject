{
 "cells": [
  {
   "cell_type": "code",
   "execution_count": 1,
   "metadata": {
    "collapsed": true
   },
   "outputs": [],
   "source": [
    "import pandas as pd\n",
    "from sklearn import preprocessing\n",
    "import sys\n",
    "\n",
    "import all_22277_list"
   ]
  },
  {
   "cell_type": "code",
   "execution_count": 10,
   "outputs": [
    {
     "ename": "AttributeError",
     "evalue": "'DataFrame' object has no attribute 'read_csv'",
     "output_type": "error",
     "traceback": [
      "\u001B[1;31m---------------------------------------------------------------------------\u001B[0m",
      "\u001B[1;31mAttributeError\u001B[0m                            Traceback (most recent call last)",
      "\u001B[1;32m<ipython-input-10-54614ae297ae>\u001B[0m in \u001B[0;36m<module>\u001B[1;34m\u001B[0m\n\u001B[1;32m----> 1\u001B[1;33m \u001B[0mall_df\u001B[0m \u001B[1;33m=\u001B[0m \u001B[0mpd\u001B[0m\u001B[1;33m.\u001B[0m\u001B[0mread_csv\u001B[0m\u001B[1;33m(\u001B[0m\u001B[1;34m\"./\"\u001B[0m\u001B[1;33m+\u001B[0m\u001B[1;34m\"H1N1Data\"\u001B[0m\u001B[1;33m+\u001B[0m\u001B[1;34m\".txt\"\u001B[0m\u001B[1;33m,\u001B[0m\u001B[0msep\u001B[0m\u001B[1;33m=\u001B[0m\u001B[1;34m'\\t'\u001B[0m\u001B[1;33m,\u001B[0m\u001B[0mencoding\u001B[0m\u001B[1;33m=\u001B[0m\u001B[1;34m'utf-8'\u001B[0m\u001B[1;33m)\u001B[0m\u001B[1;33m\u001B[0m\u001B[1;33m\u001B[0m\u001B[0m\n\u001B[0m\u001B[0;32m      2\u001B[0m \u001B[1;33m\u001B[0m\u001B[0m\n\u001B[0;32m      3\u001B[0m \u001B[0mcols\u001B[0m\u001B[1;33m=\u001B[0m\u001B[0mall_22277_list\u001B[0m\u001B[1;33m.\u001B[0m\u001B[0mcols\u001B[0m\u001B[1;33m\u001B[0m\u001B[1;33m\u001B[0m\u001B[0m\n\u001B[0;32m      4\u001B[0m \u001B[1;33m\u001B[0m\u001B[0m\n\u001B[0;32m      5\u001B[0m \u001B[1;31m#1個list存cols 這邊存的是不同資料時間的tag\u001B[0m\u001B[1;33m\u001B[0m\u001B[1;33m\u001B[0m\u001B[1;33m\u001B[0m\u001B[0m\n",
      "\u001B[1;32m~\\anaconda3\\envs\\tensorflow\\lib\\site-packages\\pandas\\core\\generic.py\u001B[0m in \u001B[0;36m__getattr__\u001B[1;34m(self, name)\u001B[0m\n\u001B[0;32m   5137\u001B[0m             \u001B[1;32mif\u001B[0m \u001B[0mself\u001B[0m\u001B[1;33m.\u001B[0m\u001B[0m_info_axis\u001B[0m\u001B[1;33m.\u001B[0m\u001B[0m_can_hold_identifiers_and_holds_name\u001B[0m\u001B[1;33m(\u001B[0m\u001B[0mname\u001B[0m\u001B[1;33m)\u001B[0m\u001B[1;33m:\u001B[0m\u001B[1;33m\u001B[0m\u001B[1;33m\u001B[0m\u001B[0m\n\u001B[0;32m   5138\u001B[0m                 \u001B[1;32mreturn\u001B[0m \u001B[0mself\u001B[0m\u001B[1;33m[\u001B[0m\u001B[0mname\u001B[0m\u001B[1;33m]\u001B[0m\u001B[1;33m\u001B[0m\u001B[1;33m\u001B[0m\u001B[0m\n\u001B[1;32m-> 5139\u001B[1;33m             \u001B[1;32mreturn\u001B[0m \u001B[0mobject\u001B[0m\u001B[1;33m.\u001B[0m\u001B[0m__getattribute__\u001B[0m\u001B[1;33m(\u001B[0m\u001B[0mself\u001B[0m\u001B[1;33m,\u001B[0m \u001B[0mname\u001B[0m\u001B[1;33m)\u001B[0m\u001B[1;33m\u001B[0m\u001B[1;33m\u001B[0m\u001B[0m\n\u001B[0m\u001B[0;32m   5140\u001B[0m \u001B[1;33m\u001B[0m\u001B[0m\n\u001B[0;32m   5141\u001B[0m     \u001B[1;32mdef\u001B[0m \u001B[0m__setattr__\u001B[0m\u001B[1;33m(\u001B[0m\u001B[0mself\u001B[0m\u001B[1;33m,\u001B[0m \u001B[0mname\u001B[0m\u001B[1;33m:\u001B[0m \u001B[0mstr\u001B[0m\u001B[1;33m,\u001B[0m \u001B[0mvalue\u001B[0m\u001B[1;33m)\u001B[0m \u001B[1;33m->\u001B[0m \u001B[1;32mNone\u001B[0m\u001B[1;33m:\u001B[0m\u001B[1;33m\u001B[0m\u001B[1;33m\u001B[0m\u001B[0m\n",
      "\u001B[1;31mAttributeError\u001B[0m: 'DataFrame' object has no attribute 'read_csv'"
     ]
    }
   ],
   "source": [
    "all_df = pd.read_csv(\"./\"+\"H1N1Data\"+\".txt\",sep='\\t',encoding='utf-8')\n",
    "\n",
    "cols=all_22277_list.cols\n",
    "\n",
    "#1個list存cols 這邊存的是不同資料時間的tag\n",
    "print(type(cols))\n",
    "\n",
    "\n",
    "#把DATA利用cols當作列來排好\n",
    "all_df=all_df[cols]\n"
   ],
   "metadata": {
    "collapsed": false,
    "pycharm": {
     "name": "#%%\n"
    }
   }
  },
  {
   "cell_type": "code",
   "execution_count": 3,
   "outputs": [],
   "source": [
    "def PreprocessData(raw_df):\n",
    "\n",
    "    df=raw_df.drop(['ID'], axis=1)\n",
    "    ndarray = df.values\n",
    "    Features = ndarray[:,1:]\n",
    "    Label = ndarray[:,0]\n",
    "\n",
    "    minmax_scale = preprocessing.MinMaxScaler(feature_range=(0, 1))\n",
    "    scaledFeatures=minmax_scale.fit_transform(Features)\n",
    "\n",
    "    return scaledFeatures,Label"
   ],
   "metadata": {
    "collapsed": false,
    "pycharm": {
     "name": "#%%\n"
    }
   }
  },
  {
   "cell_type": "code",
   "execution_count": 4,
   "outputs": [],
   "source": [
    "#all features是每個人所附帶的資料組\n",
    "#all label 每筆資料組(人) 的結果1 或 0用來訓練\n",
    "all_Features,all_Label=PreprocessData(all_df)\n",
    "\n",
    "'''\n",
    "前兩筆資料組用來做為測試用\n",
    "後面全部用來訓練用\n",
    "'''\n",
    "test_Features=all_Features[:2]\n",
    "test_Label=all_Label[:2]\n",
    "train_Features=all_Features[2:]\n",
    "train_Label=all_Label[2:]\n"
   ],
   "metadata": {
    "collapsed": false,
    "pycharm": {
     "name": "#%%\n"
    }
   }
  },
  {
   "cell_type": "code",
   "execution_count": 5,
   "outputs": [
    {
     "name": "stdout",
     "output_type": "stream",
     "text": [
      "Model: \"sequential\"\n",
      "_________________________________________________________________\n",
      "Layer (type)                 Output Shape              Param #   \n",
      "=================================================================\n",
      "dense (Dense)                (None, 100)               2227800   \n",
      "_________________________________________________________________\n",
      "dropout (Dropout)            (None, 100)               0         \n",
      "_________________________________________________________________\n",
      "dense_1 (Dense)              (None, 100)               10100     \n",
      "_________________________________________________________________\n",
      "dense_2 (Dense)              (None, 100)               10100     \n",
      "_________________________________________________________________\n",
      "dense_3 (Dense)              (None, 100)               10100     \n",
      "_________________________________________________________________\n",
      "dense_4 (Dense)              (None, 1)                 101       \n",
      "=================================================================\n",
      "Total params: 2,258,201\n",
      "Trainable params: 2,258,201\n",
      "Non-trainable params: 0\n",
      "_________________________________________________________________\n"
     ]
    }
   ],
   "source": [
    "from tensorflow.keras.models import Sequential\n",
    "from tensorflow.keras.layers import Dense,Dropout\n",
    "\n",
    "model = Sequential()\n",
    "model.add(Dense(units=100, input_dim=22277, kernel_initializer='uniform', activation='relu'))\n",
    "model.add(Dropout(0.1))\n",
    "model.add(Dense(units=100, kernel_initializer='uniform', activation='relu'))\n",
    "model.add(Dense(units=100, kernel_initializer='uniform', activation='relu'))\n",
    "model.add(Dense(units=100, kernel_initializer='uniform', activation='relu'))\n",
    "model.add(Dense(units=1, kernel_initializer='uniform', activation='sigmoid'))\n",
    "model.summary()\n",
    "model.save(\"DeepFlu4Layer.h5\")"
   ],
   "metadata": {
    "collapsed": false,
    "pycharm": {
     "name": "#%%\n"
    }
   }
  },
  {
   "cell_type": "code",
   "execution_count": 6,
   "outputs": [
    {
     "name": "stdout",
     "output_type": "stream",
     "text": [
      "Epoch 1/150\n",
      "1/1 - 4s - loss: 0.6933 - accuracy: 0.5000 - val_loss: 0.6906 - val_accuracy: 1.0000\n",
      "Epoch 2/150\n",
      "1/1 - 0s - loss: 0.6925 - accuracy: 0.5833 - val_loss: 0.6836 - val_accuracy: 1.0000\n",
      "Epoch 3/150\n",
      "1/1 - 0s - loss: 0.6912 - accuracy: 0.5000 - val_loss: 0.6704 - val_accuracy: 1.0000\n",
      "Epoch 4/150\n",
      "1/1 - 0s - loss: 0.6883 - accuracy: 0.5000 - val_loss: 0.6849 - val_accuracy: 1.0000\n",
      "Epoch 5/150\n",
      "1/1 - 0s - loss: 0.6858 - accuracy: 0.7500 - val_loss: 0.6557 - val_accuracy: 1.0000\n",
      "Epoch 6/150\n",
      "1/1 - 0s - loss: 0.6734 - accuracy: 0.7500 - val_loss: 0.6078 - val_accuracy: 1.0000\n",
      "Epoch 7/150\n",
      "1/1 - 0s - loss: 0.6613 - accuracy: 0.5000 - val_loss: 0.6404 - val_accuracy: 1.0000\n",
      "Epoch 8/150\n",
      "1/1 - 0s - loss: 0.6361 - accuracy: 0.8611 - val_loss: 0.6630 - val_accuracy: 1.0000\n",
      "Epoch 9/150\n",
      "1/1 - 0s - loss: 0.6197 - accuracy: 0.9167 - val_loss: 0.5050 - val_accuracy: 1.0000\n",
      "Epoch 10/150\n",
      "1/1 - 0s - loss: 0.6093 - accuracy: 0.6389 - val_loss: 0.5963 - val_accuracy: 1.0000\n",
      "Epoch 11/150\n",
      "1/1 - 0s - loss: 0.5586 - accuracy: 0.9167 - val_loss: 0.6403 - val_accuracy: 1.0000\n",
      "Epoch 12/150\n",
      "1/1 - 0s - loss: 0.5404 - accuracy: 0.8889 - val_loss: 0.4290 - val_accuracy: 1.0000\n",
      "Epoch 13/150\n",
      "1/1 - 0s - loss: 0.4781 - accuracy: 0.8889 - val_loss: 0.4837 - val_accuracy: 1.0000\n",
      "Epoch 14/150\n",
      "1/1 - 0s - loss: 0.4044 - accuracy: 0.9722 - val_loss: 0.4856 - val_accuracy: 1.0000\n",
      "Epoch 15/150\n",
      "1/1 - 0s - loss: 0.3511 - accuracy: 0.9444 - val_loss: 0.1410 - val_accuracy: 1.0000\n",
      "Epoch 16/150\n",
      "1/1 - 0s - loss: 0.3930 - accuracy: 0.8333 - val_loss: 0.5938 - val_accuracy: 0.7500\n",
      "Epoch 17/150\n",
      "1/1 - 0s - loss: 0.2813 - accuracy: 0.9167 - val_loss: 0.7754 - val_accuracy: 0.2500\n",
      "Epoch 18/150\n",
      "1/1 - 0s - loss: 0.3381 - accuracy: 0.8611 - val_loss: 0.1675 - val_accuracy: 1.0000\n",
      "Epoch 19/150\n",
      "1/1 - 0s - loss: 0.1970 - accuracy: 0.9444 - val_loss: 0.1087 - val_accuracy: 1.0000\n",
      "Epoch 20/150\n",
      "1/1 - 0s - loss: 0.1801 - accuracy: 0.9444 - val_loss: 0.3646 - val_accuracy: 1.0000\n",
      "Epoch 21/150\n",
      "1/1 - 0s - loss: 0.1682 - accuracy: 0.9444 - val_loss: 0.4233 - val_accuracy: 1.0000\n",
      "Epoch 22/150\n",
      "1/1 - 0s - loss: 0.1312 - accuracy: 1.0000 - val_loss: 0.1109 - val_accuracy: 1.0000\n",
      "Epoch 23/150\n",
      "1/1 - 0s - loss: 0.0856 - accuracy: 1.0000 - val_loss: 0.0610 - val_accuracy: 1.0000\n",
      "Epoch 24/150\n",
      "1/1 - 0s - loss: 0.0675 - accuracy: 1.0000 - val_loss: 0.1448 - val_accuracy: 1.0000\n",
      "Epoch 25/150\n",
      "1/1 - 0s - loss: 0.0269 - accuracy: 1.0000 - val_loss: 0.3371 - val_accuracy: 1.0000\n",
      "Epoch 26/150\n",
      "1/1 - 0s - loss: 0.0396 - accuracy: 1.0000 - val_loss: 0.3392 - val_accuracy: 0.7500\n",
      "Epoch 27/150\n",
      "1/1 - 0s - loss: 0.0339 - accuracy: 1.0000 - val_loss: 0.1609 - val_accuracy: 1.0000\n",
      "Epoch 28/150\n",
      "1/1 - 0s - loss: 0.0311 - accuracy: 0.9722 - val_loss: 0.0277 - val_accuracy: 1.0000\n",
      "Epoch 29/150\n",
      "1/1 - 0s - loss: 0.0193 - accuracy: 1.0000 - val_loss: 0.0102 - val_accuracy: 1.0000\n",
      "Epoch 30/150\n",
      "1/1 - 0s - loss: 0.0202 - accuracy: 1.0000 - val_loss: 0.0162 - val_accuracy: 1.0000\n",
      "Epoch 31/150\n",
      "1/1 - 0s - loss: 0.0111 - accuracy: 1.0000 - val_loss: 0.0643 - val_accuracy: 1.0000\n",
      "Epoch 32/150\n",
      "1/1 - 0s - loss: 0.0061 - accuracy: 1.0000 - val_loss: 0.1728 - val_accuracy: 1.0000\n",
      "Epoch 33/150\n",
      "1/1 - 0s - loss: 0.0100 - accuracy: 1.0000 - val_loss: 0.2057 - val_accuracy: 1.0000\n",
      "Epoch 34/150\n",
      "1/1 - 0s - loss: 0.0047 - accuracy: 1.0000 - val_loss: 0.1887 - val_accuracy: 1.0000\n",
      "Epoch 35/150\n",
      "1/1 - 0s - loss: 0.0108 - accuracy: 1.0000 - val_loss: 0.0477 - val_accuracy: 1.0000\n",
      "Epoch 36/150\n",
      "1/1 - 0s - loss: 0.0011 - accuracy: 1.0000 - val_loss: 0.0110 - val_accuracy: 1.0000\n",
      "Epoch 37/150\n",
      "1/1 - 0s - loss: 0.0045 - accuracy: 1.0000 - val_loss: 0.0050 - val_accuracy: 1.0000\n",
      "Epoch 38/150\n",
      "1/1 - 0s - loss: 0.0078 - accuracy: 1.0000 - val_loss: 0.0091 - val_accuracy: 1.0000\n",
      "Epoch 39/150\n",
      "1/1 - 0s - loss: 0.0026 - accuracy: 1.0000 - val_loss: 0.0242 - val_accuracy: 1.0000\n",
      "Epoch 40/150\n",
      "1/1 - 0s - loss: 3.2025e-04 - accuracy: 1.0000 - val_loss: 0.0617 - val_accuracy: 1.0000\n",
      "Epoch 41/150\n",
      "1/1 - 0s - loss: 3.5401e-04 - accuracy: 1.0000 - val_loss: 0.1421 - val_accuracy: 1.0000\n",
      "Epoch 42/150\n",
      "1/1 - 0s - loss: 4.4222e-04 - accuracy: 1.0000 - val_loss: 0.2727 - val_accuracy: 0.7500\n",
      "Epoch 43/150\n",
      "1/1 - 0s - loss: 7.2259e-04 - accuracy: 1.0000 - val_loss: 0.4125 - val_accuracy: 0.7500\n",
      "Epoch 44/150\n",
      "1/1 - 0s - loss: 7.5408e-04 - accuracy: 1.0000 - val_loss: 0.5205 - val_accuracy: 0.7500\n",
      "Epoch 45/150\n",
      "1/1 - 0s - loss: 0.0011 - accuracy: 1.0000 - val_loss: 0.5339 - val_accuracy: 0.7500\n",
      "Epoch 46/150\n",
      "1/1 - 0s - loss: 4.7405e-04 - accuracy: 1.0000 - val_loss: 0.5069 - val_accuracy: 0.7500\n",
      "Epoch 47/150\n",
      "1/1 - 0s - loss: 0.0010 - accuracy: 1.0000 - val_loss: 0.4073 - val_accuracy: 0.7500\n",
      "Epoch 48/150\n",
      "1/1 - 0s - loss: 8.1019e-04 - accuracy: 1.0000 - val_loss: 0.2766 - val_accuracy: 0.7500\n",
      "Epoch 49/150\n",
      "1/1 - 0s - loss: 3.3924e-04 - accuracy: 1.0000 - val_loss: 0.1711 - val_accuracy: 1.0000\n",
      "Epoch 50/150\n",
      "1/1 - 0s - loss: 7.1523e-04 - accuracy: 1.0000 - val_loss: 0.0850 - val_accuracy: 1.0000\n",
      "Epoch 51/150\n",
      "1/1 - 0s - loss: 9.4235e-04 - accuracy: 1.0000 - val_loss: 0.0308 - val_accuracy: 1.0000\n",
      "Epoch 52/150\n",
      "1/1 - 0s - loss: 6.5905e-05 - accuracy: 1.0000 - val_loss: 0.0113 - val_accuracy: 1.0000\n",
      "Epoch 53/150\n",
      "1/1 - 0s - loss: 3.8546e-05 - accuracy: 1.0000 - val_loss: 0.0044 - val_accuracy: 1.0000\n",
      "Epoch 54/150\n",
      "1/1 - 0s - loss: 6.7529e-05 - accuracy: 1.0000 - val_loss: 0.0019 - val_accuracy: 1.0000\n",
      "Epoch 55/150\n",
      "1/1 - 0s - loss: 8.3560e-05 - accuracy: 1.0000 - val_loss: 8.4290e-04 - val_accuracy: 1.0000\n",
      "Epoch 56/150\n",
      "1/1 - 0s - loss: 3.9058e-05 - accuracy: 1.0000 - val_loss: 4.1169e-04 - val_accuracy: 1.0000\n",
      "Epoch 57/150\n",
      "1/1 - 0s - loss: 4.9876e-04 - accuracy: 1.0000 - val_loss: 2.4894e-04 - val_accuracy: 1.0000\n",
      "Epoch 58/150\n",
      "1/1 - 0s - loss: 0.0012 - accuracy: 1.0000 - val_loss: 2.5364e-04 - val_accuracy: 1.0000\n",
      "Epoch 59/150\n",
      "1/1 - 0s - loss: 0.0011 - accuracy: 1.0000 - val_loss: 3.6965e-04 - val_accuracy: 1.0000\n",
      "Epoch 60/150\n",
      "1/1 - 0s - loss: 3.2164e-04 - accuracy: 1.0000 - val_loss: 5.8705e-04 - val_accuracy: 1.0000\n",
      "Epoch 61/150\n",
      "1/1 - 0s - loss: 1.2075e-04 - accuracy: 1.0000 - val_loss: 9.3620e-04 - val_accuracy: 1.0000\n",
      "Epoch 62/150\n",
      "1/1 - 0s - loss: 4.7337e-04 - accuracy: 1.0000 - val_loss: 0.0017 - val_accuracy: 1.0000\n",
      "Epoch 63/150\n",
      "1/1 - 0s - loss: 1.1981e-04 - accuracy: 1.0000 - val_loss: 0.0031 - val_accuracy: 1.0000\n",
      "Epoch 64/150\n",
      "1/1 - 0s - loss: 6.6919e-05 - accuracy: 1.0000 - val_loss: 0.0055 - val_accuracy: 1.0000\n",
      "Epoch 65/150\n",
      "1/1 - 0s - loss: 5.5442e-05 - accuracy: 1.0000 - val_loss: 0.0092 - val_accuracy: 1.0000\n",
      "Epoch 66/150\n",
      "1/1 - 0s - loss: 9.3527e-05 - accuracy: 1.0000 - val_loss: 0.0150 - val_accuracy: 1.0000\n",
      "Epoch 67/150\n",
      "1/1 - 0s - loss: 4.5342e-05 - accuracy: 1.0000 - val_loss: 0.0234 - val_accuracy: 1.0000\n",
      "Epoch 68/150\n",
      "1/1 - 0s - loss: 5.8634e-05 - accuracy: 1.0000 - val_loss: 0.0351 - val_accuracy: 1.0000\n",
      "Epoch 69/150\n",
      "1/1 - 0s - loss: 1.5402e-05 - accuracy: 1.0000 - val_loss: 0.0503 - val_accuracy: 1.0000\n",
      "Epoch 70/150\n",
      "1/1 - 0s - loss: 2.8143e-05 - accuracy: 1.0000 - val_loss: 0.0691 - val_accuracy: 1.0000\n",
      "Epoch 71/150\n",
      "1/1 - 0s - loss: 2.1556e-05 - accuracy: 1.0000 - val_loss: 0.0912 - val_accuracy: 1.0000\n",
      "Epoch 72/150\n",
      "1/1 - 0s - loss: 3.4269e-05 - accuracy: 1.0000 - val_loss: 0.1153 - val_accuracy: 1.0000\n",
      "Epoch 73/150\n",
      "1/1 - 0s - loss: 2.7358e-05 - accuracy: 1.0000 - val_loss: 0.1408 - val_accuracy: 1.0000\n",
      "Epoch 74/150\n",
      "1/1 - 0s - loss: 3.3970e-05 - accuracy: 1.0000 - val_loss: 0.1669 - val_accuracy: 1.0000\n",
      "Epoch 75/150\n",
      "1/1 - 0s - loss: 1.6765e-05 - accuracy: 1.0000 - val_loss: 0.1936 - val_accuracy: 0.7500\n",
      "Epoch 76/150\n",
      "1/1 - 0s - loss: 0.0011 - accuracy: 1.0000 - val_loss: 0.1553 - val_accuracy: 1.0000\n",
      "Epoch 77/150\n",
      "1/1 - 0s - loss: 2.3394e-05 - accuracy: 1.0000 - val_loss: 0.1253 - val_accuracy: 1.0000\n",
      "Epoch 78/150\n",
      "1/1 - 0s - loss: 1.7763e-05 - accuracy: 1.0000 - val_loss: 0.1022 - val_accuracy: 1.0000\n",
      "Epoch 79/150\n",
      "1/1 - 0s - loss: 7.9128e-04 - accuracy: 1.0000 - val_loss: 0.0579 - val_accuracy: 1.0000\n",
      "Epoch 80/150\n",
      "1/1 - 0s - loss: 1.6832e-05 - accuracy: 1.0000 - val_loss: 0.0334 - val_accuracy: 1.0000\n",
      "Epoch 81/150\n",
      "1/1 - 0s - loss: 1.5084e-05 - accuracy: 1.0000 - val_loss: 0.0200 - val_accuracy: 1.0000\n",
      "Epoch 82/150\n",
      "1/1 - 0s - loss: 2.1030e-05 - accuracy: 1.0000 - val_loss: 0.0124 - val_accuracy: 1.0000\n",
      "Epoch 83/150\n",
      "1/1 - 0s - loss: 1.5885e-05 - accuracy: 1.0000 - val_loss: 0.0081 - val_accuracy: 1.0000\n",
      "Epoch 84/150\n",
      "1/1 - 0s - loss: 5.8644e-05 - accuracy: 1.0000 - val_loss: 0.0055 - val_accuracy: 1.0000\n",
      "Epoch 85/150\n",
      "1/1 - 0s - loss: 4.3918e-05 - accuracy: 1.0000 - val_loss: 0.0039 - val_accuracy: 1.0000\n",
      "Epoch 86/150\n",
      "1/1 - 0s - loss: 2.6878e-05 - accuracy: 1.0000 - val_loss: 0.0028 - val_accuracy: 1.0000\n",
      "Epoch 87/150\n",
      "1/1 - 0s - loss: 1.9815e-05 - accuracy: 1.0000 - val_loss: 0.0022 - val_accuracy: 1.0000\n",
      "Epoch 88/150\n",
      "1/1 - 0s - loss: 2.5677e-05 - accuracy: 1.0000 - val_loss: 0.0017 - val_accuracy: 1.0000\n",
      "Epoch 89/150\n",
      "1/1 - 0s - loss: 2.6879e-05 - accuracy: 1.0000 - val_loss: 0.0014 - val_accuracy: 1.0000\n",
      "Epoch 90/150\n",
      "1/1 - 0s - loss: 1.8000e-04 - accuracy: 1.0000 - val_loss: 0.0012 - val_accuracy: 1.0000\n",
      "Epoch 91/150\n",
      "1/1 - 0s - loss: 1.3926e-05 - accuracy: 1.0000 - val_loss: 0.0010 - val_accuracy: 1.0000\n",
      "Epoch 92/150\n",
      "1/1 - 0s - loss: 4.4370e-05 - accuracy: 1.0000 - val_loss: 9.2511e-04 - val_accuracy: 1.0000\n",
      "Epoch 93/150\n",
      "1/1 - 0s - loss: 1.3387e-04 - accuracy: 1.0000 - val_loss: 8.9755e-04 - val_accuracy: 1.0000\n",
      "Epoch 94/150\n",
      "1/1 - 0s - loss: 2.5338e-05 - accuracy: 1.0000 - val_loss: 8.8381e-04 - val_accuracy: 1.0000\n",
      "Epoch 95/150\n",
      "1/1 - 0s - loss: 6.2258e-04 - accuracy: 1.0000 - val_loss: 0.0013 - val_accuracy: 1.0000\n",
      "Epoch 96/150\n",
      "1/1 - 0s - loss: 3.1683e-05 - accuracy: 1.0000 - val_loss: 0.0018 - val_accuracy: 1.0000\n",
      "Epoch 97/150\n",
      "1/1 - 0s - loss: 2.0558e-05 - accuracy: 1.0000 - val_loss: 0.0025 - val_accuracy: 1.0000\n",
      "Epoch 98/150\n",
      "1/1 - 0s - loss: 3.0282e-05 - accuracy: 1.0000 - val_loss: 0.0033 - val_accuracy: 1.0000\n",
      "Epoch 99/150\n",
      "1/1 - 0s - loss: 1.1008e-04 - accuracy: 1.0000 - val_loss: 0.0047 - val_accuracy: 1.0000\n",
      "Epoch 100/150\n",
      "1/1 - 0s - loss: 2.1949e-05 - accuracy: 1.0000 - val_loss: 0.0064 - val_accuracy: 1.0000\n",
      "Epoch 101/150\n",
      "1/1 - 0s - loss: 3.1850e-05 - accuracy: 1.0000 - val_loss: 0.0086 - val_accuracy: 1.0000\n",
      "Epoch 102/150\n",
      "1/1 - 0s - loss: 1.8841e-05 - accuracy: 1.0000 - val_loss: 0.0112 - val_accuracy: 1.0000\n",
      "Epoch 103/150\n",
      "1/1 - 0s - loss: 6.1291e-05 - accuracy: 1.0000 - val_loss: 0.0141 - val_accuracy: 1.0000\n",
      "Epoch 104/150\n",
      "1/1 - 0s - loss: 2.4337e-05 - accuracy: 1.0000 - val_loss: 0.0173 - val_accuracy: 1.0000\n",
      "Epoch 105/150\n",
      "1/1 - 0s - loss: 5.3485e-05 - accuracy: 1.0000 - val_loss: 0.0205 - val_accuracy: 1.0000\n",
      "Epoch 106/150\n",
      "1/1 - 0s - loss: 1.4679e-05 - accuracy: 1.0000 - val_loss: 0.0240 - val_accuracy: 1.0000\n",
      "Epoch 107/150\n",
      "1/1 - 0s - loss: 1.9845e-05 - accuracy: 1.0000 - val_loss: 0.0275 - val_accuracy: 1.0000\n",
      "Epoch 108/150\n",
      "1/1 - 0s - loss: 3.8566e-05 - accuracy: 1.0000 - val_loss: 0.0308 - val_accuracy: 1.0000\n",
      "Epoch 109/150\n",
      "1/1 - 0s - loss: 1.0586e-05 - accuracy: 1.0000 - val_loss: 0.0343 - val_accuracy: 1.0000\n",
      "Epoch 110/150\n",
      "1/1 - 0s - loss: 3.2237e-05 - accuracy: 1.0000 - val_loss: 0.0376 - val_accuracy: 1.0000\n",
      "Epoch 111/150\n",
      "1/1 - 0s - loss: 1.3662e-05 - accuracy: 1.0000 - val_loss: 0.0406 - val_accuracy: 1.0000\n",
      "Epoch 112/150\n",
      "1/1 - 0s - loss: 1.1502e-05 - accuracy: 1.0000 - val_loss: 0.0436 - val_accuracy: 1.0000\n",
      "Epoch 113/150\n",
      "1/1 - 0s - loss: 1.1872e-05 - accuracy: 1.0000 - val_loss: 0.0466 - val_accuracy: 1.0000\n",
      "Epoch 114/150\n",
      "1/1 - 0s - loss: 1.2595e-05 - accuracy: 1.0000 - val_loss: 0.0494 - val_accuracy: 1.0000\n",
      "Epoch 115/150\n",
      "1/1 - 0s - loss: 2.3724e-05 - accuracy: 1.0000 - val_loss: 0.0522 - val_accuracy: 1.0000\n",
      "Epoch 116/150\n",
      "1/1 - 0s - loss: 6.3159e-05 - accuracy: 1.0000 - val_loss: 0.0524 - val_accuracy: 1.0000\n",
      "Epoch 117/150\n",
      "1/1 - 0s - loss: 1.1491e-05 - accuracy: 1.0000 - val_loss: 0.0525 - val_accuracy: 1.0000\n",
      "Epoch 118/150\n",
      "1/1 - 0s - loss: 2.3676e-05 - accuracy: 1.0000 - val_loss: 0.0528 - val_accuracy: 1.0000\n",
      "Epoch 119/150\n",
      "1/1 - 0s - loss: 1.9717e-05 - accuracy: 1.0000 - val_loss: 0.0531 - val_accuracy: 1.0000\n",
      "Epoch 120/150\n",
      "1/1 - 0s - loss: 4.3764e-05 - accuracy: 1.0000 - val_loss: 0.0534 - val_accuracy: 1.0000\n",
      "Epoch 121/150\n",
      "1/1 - 0s - loss: 1.0022e-05 - accuracy: 1.0000 - val_loss: 0.0536 - val_accuracy: 1.0000\n",
      "Epoch 122/150\n",
      "1/1 - 0s - loss: 7.1105e-06 - accuracy: 1.0000 - val_loss: 0.0539 - val_accuracy: 1.0000\n",
      "Epoch 123/150\n",
      "1/1 - 0s - loss: 1.4285e-05 - accuracy: 1.0000 - val_loss: 0.0541 - val_accuracy: 1.0000\n",
      "Epoch 124/150\n",
      "1/1 - 0s - loss: 1.1118e-04 - accuracy: 1.0000 - val_loss: 0.0497 - val_accuracy: 1.0000\n",
      "Epoch 125/150\n",
      "1/1 - 0s - loss: 1.2894e-05 - accuracy: 1.0000 - val_loss: 0.0460 - val_accuracy: 1.0000\n",
      "Epoch 126/150\n",
      "1/1 - 0s - loss: 1.3696e-05 - accuracy: 1.0000 - val_loss: 0.0429 - val_accuracy: 1.0000\n",
      "Epoch 127/150\n",
      "1/1 - 0s - loss: 1.5604e-05 - accuracy: 1.0000 - val_loss: 0.0403 - val_accuracy: 1.0000\n",
      "Epoch 128/150\n",
      "1/1 - 0s - loss: 1.8252e-05 - accuracy: 1.0000 - val_loss: 0.0380 - val_accuracy: 1.0000\n",
      "Epoch 129/150\n",
      "1/1 - 0s - loss: 9.8000e-06 - accuracy: 1.0000 - val_loss: 0.0360 - val_accuracy: 1.0000\n",
      "Epoch 130/150\n",
      "1/1 - 0s - loss: 1.5843e-05 - accuracy: 1.0000 - val_loss: 0.0344 - val_accuracy: 1.0000\n",
      "Epoch 131/150\n",
      "1/1 - 0s - loss: 2.1953e-05 - accuracy: 1.0000 - val_loss: 0.0331 - val_accuracy: 1.0000\n",
      "Epoch 132/150\n",
      "1/1 - 0s - loss: 8.3984e-06 - accuracy: 1.0000 - val_loss: 0.0320 - val_accuracy: 1.0000\n",
      "Epoch 133/150\n",
      "1/1 - 0s - loss: 5.7550e-05 - accuracy: 1.0000 - val_loss: 0.0317 - val_accuracy: 1.0000\n",
      "Epoch 134/150\n",
      "1/1 - 0s - loss: 1.5563e-05 - accuracy: 1.0000 - val_loss: 0.0313 - val_accuracy: 1.0000\n",
      "Epoch 135/150\n",
      "1/1 - 0s - loss: 2.3210e-05 - accuracy: 1.0000 - val_loss: 0.0308 - val_accuracy: 1.0000\n",
      "Epoch 136/150\n",
      "1/1 - 0s - loss: 9.1824e-06 - accuracy: 1.0000 - val_loss: 0.0304 - val_accuracy: 1.0000\n",
      "Epoch 137/150\n",
      "1/1 - 0s - loss: 2.5992e-05 - accuracy: 1.0000 - val_loss: 0.0299 - val_accuracy: 1.0000\n",
      "Epoch 138/150\n",
      "1/1 - 0s - loss: 3.3323e-05 - accuracy: 1.0000 - val_loss: 0.0295 - val_accuracy: 1.0000\n",
      "Epoch 139/150\n",
      "1/1 - 0s - loss: 1.0188e-05 - accuracy: 1.0000 - val_loss: 0.0290 - val_accuracy: 1.0000\n",
      "Epoch 140/150\n",
      "1/1 - 0s - loss: 1.0647e-05 - accuracy: 1.0000 - val_loss: 0.0287 - val_accuracy: 1.0000\n",
      "Epoch 141/150\n",
      "1/1 - 0s - loss: 1.3289e-05 - accuracy: 1.0000 - val_loss: 0.0284 - val_accuracy: 1.0000\n",
      "Epoch 142/150\n",
      "1/1 - 0s - loss: 1.4189e-05 - accuracy: 1.0000 - val_loss: 0.0281 - val_accuracy: 1.0000\n",
      "Epoch 143/150\n",
      "1/1 - 0s - loss: 8.9283e-06 - accuracy: 1.0000 - val_loss: 0.0279 - val_accuracy: 1.0000\n",
      "Epoch 144/150\n",
      "1/1 - 0s - loss: 1.0637e-05 - accuracy: 1.0000 - val_loss: 0.0277 - val_accuracy: 1.0000\n",
      "Epoch 145/150\n",
      "1/1 - 0s - loss: 1.8409e-05 - accuracy: 1.0000 - val_loss: 0.0275 - val_accuracy: 1.0000\n",
      "Epoch 146/150\n",
      "1/1 - 0s - loss: 1.2699e-05 - accuracy: 1.0000 - val_loss: 0.0272 - val_accuracy: 1.0000\n",
      "Epoch 147/150\n",
      "1/1 - 0s - loss: 9.5808e-06 - accuracy: 1.0000 - val_loss: 0.0271 - val_accuracy: 1.0000\n",
      "Epoch 148/150\n",
      "1/1 - 0s - loss: 1.0472e-05 - accuracy: 1.0000 - val_loss: 0.0270 - val_accuracy: 1.0000\n",
      "Epoch 149/150\n",
      "1/1 - 0s - loss: 2.6125e-05 - accuracy: 1.0000 - val_loss: 0.0266 - val_accuracy: 1.0000\n",
      "Epoch 150/150\n",
      "1/1 - 0s - loss: 1.0330e-05 - accuracy: 1.0000 - val_loss: 0.0263 - val_accuracy: 1.0000\n"
     ]
    }
   ],
   "source": [
    "model.compile(loss='binary_crossentropy',optimizer='adam', metrics=['accuracy'])\n",
    "train_history =model.fit(x=train_Features, y=train_Label, validation_split=0.1, epochs=150, batch_size=200,verbose=2)"
   ],
   "metadata": {
    "collapsed": false,
    "pycharm": {
     "name": "#%%\n"
    }
   }
  },
  {
   "cell_type": "code",
   "execution_count": 7,
   "outputs": [
    {
     "name": "stdout",
     "output_type": "stream",
     "text": [
      "1/1 [==============================] - 0s 29ms/step - loss: 1.6174 - accuracy: 0.0000e+00\b\b\b\b\b\b\b\b\b\b\b\b\b\b\b\b\b\b\b\b\b\b\b\b\b\b\b\b\b\b\b\b\b\b\b\b\b\b\b\b\b\b\b\b\b\b\b\b\b\b\b\b\b\b\b\b\b\b\b\b\b\b\b\b\b\b\b\b\b\b\b\b\b\b\b\b\b\b\b\n"
     ]
    }
   ],
   "source": [
    "scores=model.evaluate(x=test_Features, y=test_Label)"
   ],
   "metadata": {
    "collapsed": false,
    "pycharm": {
     "name": "#%%\n"
    }
   }
  },
  {
   "cell_type": "code",
   "execution_count": 8,
   "outputs": [
    {
     "name": "stderr",
     "output_type": "stream",
     "text": [
      "C:\\Users\\choug\\anaconda3\\envs\\tensorflow\\lib\\site-packages\\tensorflow\\python\\keras\\engine\\sequential.py:450: UserWarning: `model.predict_classes()` is deprecated and will be removed after 2021-01-01. Please use instead:* `np.argmax(model.predict(x), axis=-1)`,   if your model does multi-class classification   (e.g. if it uses a `softmax` last-layer activation).* `(model.predict(x) > 0.5).astype(\"int32\")`,   if your model does binary classification   (e.g. if it uses a `sigmoid` last-layer activation).\n",
      "  warnings.warn('`model.predict_classes()` is deprecated and '\n",
      "C:\\Users\\choug\\anaconda3\\envs\\tensorflow\\lib\\site-packages\\tensorflow\\python\\keras\\engine\\sequential.py:425: UserWarning: `model.predict_proba()` is deprecated and will be removed after 2021-01-01. Please use `model.predict()` instead.\n",
      "  warnings.warn('`model.predict_proba()` is deprecated and '\n"
     ]
    }
   ],
   "source": [
    "all_Features,Label=PreprocessData(all_df)\n",
    "\n",
    "#利用網路去預測測試資料\n",
    "#predict_classes: 取出屬於第幾類\n",
    "all_probability=model.predict_classes(all_Features)\n",
    "#predict_proba: 取出每個預測的機率\n",
    "all_probability_score=model.predict_proba(all_Features)\n",
    "pd=all_df\n",
    "\n",
    "#把預測值存到表格\n",
    "pd.insert(len(all_df.columns), 'probability',all_probability)\n",
    "\n",
    "'''\n",
    "前兩個是test DATA\n",
    "'''\n",
    "predict=all_probability[:2]\n",
    "predict_score=all_probability_score[:2]\n",
    "predict=predict.tolist()\n",
    "predict_score=predict_score.tolist()"
   ],
   "metadata": {
    "collapsed": false,
    "pycharm": {
     "name": "#%%\n"
    }
   }
  },
  {
   "cell_type": "code",
   "execution_count": 9,
   "outputs": [
    {
     "data": {
      "text/plain": "<function TextIOWrapper.close()>"
     },
     "execution_count": 9,
     "metadata": {},
     "output_type": "execute_result"
    }
   ],
   "source": [
    "f1 = open(\"./\"+\"result\"+\".txt\", 'a', encoding = 'UTF-8')\n",
    "f1.write(str(int(test_Label[0]))+\"\\t\"+str(predict[0])+\"\\t\"+str(predict[1])+\"\\t\"+str(predict_score[0])+\"\\t\"+str(predict_score[1])+\"\\n\")\n",
    "f1.close\n"
   ],
   "metadata": {
    "collapsed": false,
    "pycharm": {
     "name": "#%%\n"
    }
   }
  }
 ],
 "metadata": {
  "kernelspec": {
   "display_name": "Python 3",
   "language": "python",
   "name": "python3"
  },
  "language_info": {
   "codemirror_mode": {
    "name": "ipython",
    "version": 2
   },
   "file_extension": ".py",
   "mimetype": "text/x-python",
   "name": "python",
   "nbconvert_exporter": "python",
   "pygments_lexer": "ipython2",
   "version": "2.7.6"
  }
 },
 "nbformat": 4,
 "nbformat_minor": 0
}