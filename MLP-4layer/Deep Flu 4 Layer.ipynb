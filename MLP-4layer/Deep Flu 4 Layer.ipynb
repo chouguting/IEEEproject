{
 "cells": [
  {
   "cell_type": "code",
   "execution_count": 31,
   "metadata": {
    "collapsed": true
   },
   "outputs": [],
   "source": [
    "import pandas as pd\n",
    "from sklearn import preprocessing\n",
    "import sys\n",
    "\n",
    "import all_22277_list"
   ]
  },
  {
   "cell_type": "code",
   "execution_count": 32,
   "outputs": [
    {
     "name": "stdout",
     "output_type": "stream",
     "text": [
      "<class 'list'>\n"
     ]
    }
   ],
   "source": [
    "all_df = pd.read_csv(\"./\"+\"H1N1Data\"+\".txt\",sep='\\t',encoding='utf-8')\n",
    "\n",
    "cols=all_22277_list.cols\n",
    "\n",
    "#1個list存cols 這邊存的是不同資料時間的tag\n",
    "print(type(cols))\n",
    "\n",
    "\n",
    "#把DATA利用cols當作列來排好\n",
    "all_df=all_df[cols]\n"
   ],
   "metadata": {
    "collapsed": false,
    "pycharm": {
     "name": "#%%\n"
    }
   }
  },
  {
   "cell_type": "code",
   "execution_count": 33,
   "outputs": [],
   "source": [
    "def PreprocessData(raw_df):\n",
    "\n",
    "    df=raw_df.drop(['ID'], axis=1)\n",
    "    ndarray = df.values\n",
    "    Features = ndarray[:,1:]\n",
    "    Label = ndarray[:,0]\n",
    "\n",
    "    minmax_scale = preprocessing.MinMaxScaler(feature_range=(0, 1))\n",
    "    scaledFeatures=minmax_scale.fit_transform(Features)\n",
    "\n",
    "    return scaledFeatures,Label"
   ],
   "metadata": {
    "collapsed": false,
    "pycharm": {
     "name": "#%%\n"
    }
   }
  },
  {
   "cell_type": "code",
   "execution_count": 34,
   "outputs": [],
   "source": [
    "#all features是每個人所附帶的資料組\n",
    "#all label 每筆資料組(人) 的結果1 或 0用來訓練\n",
    "all_Features,all_Label=PreprocessData(all_df)\n",
    "\n",
    "'''\n",
    "前兩筆資料組用來做為測試用\n",
    "後面全部用來訓練用\n",
    "'''\n",
    "test_Features=all_Features[:2]\n",
    "test_Label=all_Label[:2]\n",
    "train_Features=all_Features[2:]\n",
    "train_Label=all_Label[2:]\n"
   ],
   "metadata": {
    "collapsed": false,
    "pycharm": {
     "name": "#%%\n"
    }
   }
  },
  {
   "cell_type": "code",
   "execution_count": 41,
   "outputs": [
    {
     "name": "stdout",
     "output_type": "stream",
     "text": [
      "Model: \"sequential_5\"\n",
      "_________________________________________________________________\n",
      "Layer (type)                 Output Shape              Param #   \n",
      "=================================================================\n",
      "dense_25 (Dense)             (None, 100)               2227800   \n",
      "_________________________________________________________________\n",
      "dropout_5 (Dropout)          (None, 100)               0         \n",
      "_________________________________________________________________\n",
      "dense_26 (Dense)             (None, 100)               10100     \n",
      "_________________________________________________________________\n",
      "dense_27 (Dense)             (None, 100)               10100     \n",
      "_________________________________________________________________\n",
      "dense_28 (Dense)             (None, 100)               10100     \n",
      "_________________________________________________________________\n",
      "dense_29 (Dense)             (None, 1)                 101       \n",
      "=================================================================\n",
      "Total params: 2,258,201\n",
      "Trainable params: 2,258,201\n",
      "Non-trainable params: 0\n",
      "_________________________________________________________________\n"
     ]
    }
   ],
   "source": [
    "from tensorflow.keras.models import Sequential\n",
    "from tensorflow.keras.layers import Dense,Dropout\n",
    "\n",
    "model = Sequential()\n",
    "model.add(Dense(units=100, input_dim=22277, kernel_initializer='uniform', activation='relu'))\n",
    "model.add(Dropout(0.1))\n",
    "model.add(Dense(units=100, kernel_initializer='uniform', activation='relu'))\n",
    "model.add(Dense(units=100, kernel_initializer='uniform', activation='relu'))\n",
    "model.add(Dense(units=100, kernel_initializer='uniform', activation='relu'))\n",
    "model.add(Dense(units=1, kernel_initializer='uniform', activation='sigmoid'))\n",
    "model.summary()\n",
    "model.save(\"DeepFlu4Layer.h5\")"
   ],
   "metadata": {
    "collapsed": false,
    "pycharm": {
     "name": "#%%\n"
    }
   }
  },
  {
   "cell_type": "code",
   "execution_count": 36,
   "outputs": [
    {
     "name": "stdout",
     "output_type": "stream",
     "text": [
      "Epoch 1/150\n",
      "1/1 - 1s - loss: 0.6932 - accuracy: 0.5278 - val_loss: 0.6962 - val_accuracy: 0.0000e+00\n",
      "Epoch 2/150\n",
      "1/1 - 0s - loss: 0.6928 - accuracy: 0.5000 - val_loss: 0.7070 - val_accuracy: 0.0000e+00\n",
      "Epoch 3/150\n",
      "1/1 - 0s - loss: 0.6917 - accuracy: 0.5000 - val_loss: 0.7042 - val_accuracy: 0.0000e+00\n",
      "Epoch 4/150\n",
      "1/1 - 0s - loss: 0.6895 - accuracy: 0.5833 - val_loss: 0.6910 - val_accuracy: 0.7500\n",
      "Epoch 5/150\n",
      "1/1 - 0s - loss: 0.6874 - accuracy: 0.7222 - val_loss: 0.6851 - val_accuracy: 1.0000\n",
      "Epoch 6/150\n",
      "1/1 - 0s - loss: 0.6787 - accuracy: 0.8056 - val_loss: 0.6999 - val_accuracy: 0.2500\n",
      "Epoch 7/150\n",
      "1/1 - 0s - loss: 0.6694 - accuracy: 0.8333 - val_loss: 0.7043 - val_accuracy: 0.2500\n",
      "Epoch 8/150\n",
      "1/1 - 0s - loss: 0.6494 - accuracy: 0.8333 - val_loss: 0.6602 - val_accuracy: 1.0000\n",
      "Epoch 9/150\n",
      "1/1 - 0s - loss: 0.6309 - accuracy: 0.9444 - val_loss: 0.7378 - val_accuracy: 0.0000e+00\n",
      "Epoch 10/150\n",
      "1/1 - 0s - loss: 0.6114 - accuracy: 0.7778 - val_loss: 0.6490 - val_accuracy: 1.0000\n",
      "Epoch 11/150\n",
      "1/1 - 0s - loss: 0.5626 - accuracy: 0.9444 - val_loss: 0.5765 - val_accuracy: 1.0000\n",
      "Epoch 12/150\n",
      "1/1 - 0s - loss: 0.5217 - accuracy: 0.9722 - val_loss: 0.7208 - val_accuracy: 0.2500\n",
      "Epoch 13/150\n",
      "1/1 - 0s - loss: 0.4720 - accuracy: 0.8611 - val_loss: 0.4671 - val_accuracy: 1.0000\n",
      "Epoch 14/150\n",
      "1/1 - 0s - loss: 0.4139 - accuracy: 0.9722 - val_loss: 0.5961 - val_accuracy: 1.0000\n",
      "Epoch 15/150\n",
      "1/1 - 0s - loss: 0.3580 - accuracy: 0.9722 - val_loss: 0.3572 - val_accuracy: 1.0000\n",
      "Epoch 16/150\n",
      "1/1 - 0s - loss: 0.2886 - accuracy: 0.9722 - val_loss: 0.3743 - val_accuracy: 1.0000\n",
      "Epoch 17/150\n",
      "1/1 - 0s - loss: 0.2223 - accuracy: 1.0000 - val_loss: 0.6575 - val_accuracy: 0.5000\n",
      "Epoch 18/150\n",
      "1/1 - 0s - loss: 0.2244 - accuracy: 0.9444 - val_loss: 0.0936 - val_accuracy: 1.0000\n",
      "Epoch 19/150\n",
      "1/1 - 0s - loss: 0.2556 - accuracy: 0.8611 - val_loss: 0.4628 - val_accuracy: 1.0000\n",
      "Epoch 20/150\n",
      "1/1 - 0s - loss: 0.1171 - accuracy: 1.0000 - val_loss: 0.7918 - val_accuracy: 0.2500\n",
      "Epoch 21/150\n",
      "1/1 - 0s - loss: 0.1441 - accuracy: 0.9167 - val_loss: 0.2018 - val_accuracy: 1.0000\n",
      "Epoch 22/150\n",
      "1/1 - 0s - loss: 0.0971 - accuracy: 0.9722 - val_loss: 0.0476 - val_accuracy: 1.0000\n",
      "Epoch 23/150\n",
      "1/1 - 0s - loss: 0.0853 - accuracy: 0.9722 - val_loss: 0.1020 - val_accuracy: 1.0000\n",
      "Epoch 24/150\n",
      "1/1 - 0s - loss: 0.0520 - accuracy: 1.0000 - val_loss: 0.4060 - val_accuracy: 0.7500\n",
      "Epoch 25/150\n",
      "1/1 - 0s - loss: 0.0570 - accuracy: 1.0000 - val_loss: 0.5842 - val_accuracy: 0.7500\n",
      "Epoch 26/150\n",
      "1/1 - 0s - loss: 0.0458 - accuracy: 1.0000 - val_loss: 0.1652 - val_accuracy: 1.0000\n",
      "Epoch 27/150\n",
      "1/1 - 0s - loss: 0.0245 - accuracy: 1.0000 - val_loss: 0.0363 - val_accuracy: 1.0000\n",
      "Epoch 28/150\n",
      "1/1 - 0s - loss: 0.0123 - accuracy: 1.0000 - val_loss: 0.0131 - val_accuracy: 1.0000\n",
      "Epoch 29/150\n",
      "1/1 - 0s - loss: 0.0164 - accuracy: 1.0000 - val_loss: 0.0148 - val_accuracy: 1.0000\n",
      "Epoch 30/150\n",
      "1/1 - 0s - loss: 0.0132 - accuracy: 1.0000 - val_loss: 0.0469 - val_accuracy: 1.0000\n",
      "Epoch 31/150\n",
      "1/1 - 0s - loss: 0.0066 - accuracy: 1.0000 - val_loss: 0.1926 - val_accuracy: 1.0000\n",
      "Epoch 32/150\n",
      "1/1 - 0s - loss: 0.0036 - accuracy: 1.0000 - val_loss: 0.5329 - val_accuracy: 0.7500\n",
      "Epoch 33/150\n",
      "1/1 - 0s - loss: 0.0082 - accuracy: 1.0000 - val_loss: 0.6574 - val_accuracy: 0.7500\n",
      "Epoch 34/150\n",
      "1/1 - 0s - loss: 0.0044 - accuracy: 1.0000 - val_loss: 0.5691 - val_accuracy: 0.7500\n",
      "Epoch 35/150\n",
      "1/1 - 0s - loss: 0.0205 - accuracy: 1.0000 - val_loss: 0.0650 - val_accuracy: 1.0000\n",
      "Epoch 36/150\n",
      "1/1 - 0s - loss: 0.0011 - accuracy: 1.0000 - val_loss: 0.0049 - val_accuracy: 1.0000\n",
      "Epoch 37/150\n",
      "1/1 - 0s - loss: 5.0906e-04 - accuracy: 1.0000 - val_loss: 7.1459e-04 - val_accuracy: 1.0000\n",
      "Epoch 38/150\n",
      "1/1 - 0s - loss: 0.0057 - accuracy: 1.0000 - val_loss: 3.5705e-04 - val_accuracy: 1.0000\n",
      "Epoch 39/150\n",
      "1/1 - 0s - loss: 0.0049 - accuracy: 1.0000 - val_loss: 2.9084e-04 - val_accuracy: 1.0000\n",
      "Epoch 40/150\n",
      "1/1 - 0s - loss: 0.0262 - accuracy: 0.9722 - val_loss: 0.0032 - val_accuracy: 1.0000\n",
      "Epoch 41/150\n",
      "1/1 - 0s - loss: 5.0441e-04 - accuracy: 1.0000 - val_loss: 0.1178 - val_accuracy: 1.0000\n",
      "Epoch 42/150\n",
      "1/1 - 0s - loss: 2.5371e-04 - accuracy: 1.0000 - val_loss: 1.1712 - val_accuracy: 0.5000\n",
      "Epoch 43/150\n",
      "1/1 - 0s - loss: 0.0054 - accuracy: 1.0000 - val_loss: 2.5759 - val_accuracy: 0.2500\n",
      "Epoch 44/150\n",
      "1/1 - 0s - loss: 0.0551 - accuracy: 1.0000 - val_loss: 0.0181 - val_accuracy: 1.0000\n",
      "Epoch 45/150\n",
      "1/1 - 0s - loss: 1.2652e-04 - accuracy: 1.0000 - val_loss: 1.6550e-04 - val_accuracy: 1.0000\n",
      "Epoch 46/150\n",
      "1/1 - 0s - loss: 0.0163 - accuracy: 1.0000 - val_loss: 5.8223e-05 - val_accuracy: 1.0000\n",
      "Epoch 47/150\n",
      "1/1 - 0s - loss: 0.0798 - accuracy: 0.9722 - val_loss: 0.0047 - val_accuracy: 1.0000\n",
      "Epoch 48/150\n",
      "1/1 - 0s - loss: 1.3991e-04 - accuracy: 1.0000 - val_loss: 1.8948 - val_accuracy: 0.2500\n",
      "Epoch 49/150\n",
      "1/1 - 0s - loss: 0.0060 - accuracy: 1.0000 - val_loss: 6.7712 - val_accuracy: 0.0000e+00\n",
      "Epoch 50/150\n",
      "1/1 - 0s - loss: 0.4008 - accuracy: 0.8333 - val_loss: 0.0131 - val_accuracy: 1.0000\n",
      "Epoch 51/150\n",
      "1/1 - 0s - loss: 1.9758e-04 - accuracy: 1.0000 - val_loss: 7.3699e-05 - val_accuracy: 1.0000\n",
      "Epoch 52/150\n",
      "1/1 - 0s - loss: 0.1639 - accuracy: 0.9444 - val_loss: 7.6391e-05 - val_accuracy: 1.0000\n",
      "Epoch 53/150\n",
      "1/1 - 0s - loss: 0.3121 - accuracy: 0.8889 - val_loss: 0.0016 - val_accuracy: 1.0000\n",
      "Epoch 54/150\n",
      "1/1 - 0s - loss: 7.7920e-04 - accuracy: 1.0000 - val_loss: 0.4794 - val_accuracy: 0.7500\n",
      "Epoch 55/150\n",
      "1/1 - 0s - loss: 0.0012 - accuracy: 1.0000 - val_loss: 4.6156 - val_accuracy: 0.0000e+00\n",
      "Epoch 56/150\n",
      "1/1 - 0s - loss: 0.0787 - accuracy: 0.9722 - val_loss: 5.8607 - val_accuracy: 0.0000e+00\n",
      "Epoch 57/150\n",
      "1/1 - 0s - loss: 0.3149 - accuracy: 0.8333 - val_loss: 1.0404 - val_accuracy: 0.5000\n",
      "Epoch 58/150\n",
      "1/1 - 0s - loss: 0.0028 - accuracy: 1.0000 - val_loss: 0.0089 - val_accuracy: 1.0000\n",
      "Epoch 59/150\n",
      "1/1 - 0s - loss: 0.0015 - accuracy: 1.0000 - val_loss: 0.0017 - val_accuracy: 1.0000\n",
      "Epoch 60/150\n",
      "1/1 - 0s - loss: 0.0058 - accuracy: 1.0000 - val_loss: 5.8845e-04 - val_accuracy: 1.0000\n",
      "Epoch 61/150\n",
      "1/1 - 0s - loss: 0.1144 - accuracy: 1.0000 - val_loss: 6.8220e-04 - val_accuracy: 1.0000\n",
      "Epoch 62/150\n",
      "1/1 - 0s - loss: 0.2017 - accuracy: 0.8889 - val_loss: 0.0040 - val_accuracy: 1.0000\n",
      "Epoch 63/150\n",
      "1/1 - 0s - loss: 0.0049 - accuracy: 1.0000 - val_loss: 0.0256 - val_accuracy: 1.0000\n",
      "Epoch 64/150\n",
      "1/1 - 0s - loss: 0.0028 - accuracy: 1.0000 - val_loss: 0.6307 - val_accuracy: 0.7500\n",
      "Epoch 65/150\n",
      "1/1 - 0s - loss: 0.0049 - accuracy: 1.0000 - val_loss: 2.5680 - val_accuracy: 0.2500\n",
      "Epoch 66/150\n",
      "1/1 - 0s - loss: 0.0193 - accuracy: 1.0000 - val_loss: 4.0993 - val_accuracy: 0.0000e+00\n",
      "Epoch 67/150\n",
      "1/1 - 0s - loss: 0.1665 - accuracy: 0.8889 - val_loss: 3.6192 - val_accuracy: 0.0000e+00\n",
      "Epoch 68/150\n",
      "1/1 - 0s - loss: 0.1025 - accuracy: 0.9444 - val_loss: 2.0802 - val_accuracy: 0.2500\n",
      "Epoch 69/150\n",
      "1/1 - 0s - loss: 0.0154 - accuracy: 1.0000 - val_loss: 0.6607 - val_accuracy: 0.7500\n",
      "Epoch 70/150\n",
      "1/1 - 0s - loss: 0.0071 - accuracy: 1.0000 - val_loss: 0.0852 - val_accuracy: 1.0000\n",
      "Epoch 71/150\n",
      "1/1 - 0s - loss: 0.0031 - accuracy: 1.0000 - val_loss: 0.0261 - val_accuracy: 1.0000\n",
      "Epoch 72/150\n",
      "1/1 - 0s - loss: 0.0028 - accuracy: 1.0000 - val_loss: 0.0111 - val_accuracy: 1.0000\n",
      "Epoch 73/150\n",
      "1/1 - 0s - loss: 0.0033 - accuracy: 1.0000 - val_loss: 0.0052 - val_accuracy: 1.0000\n",
      "Epoch 74/150\n",
      "1/1 - 0s - loss: 0.0080 - accuracy: 1.0000 - val_loss: 0.0027 - val_accuracy: 1.0000\n",
      "Epoch 75/150\n",
      "1/1 - 0s - loss: 0.0142 - accuracy: 1.0000 - val_loss: 0.0015 - val_accuracy: 1.0000\n",
      "Epoch 76/150\n",
      "1/1 - 0s - loss: 0.0237 - accuracy: 1.0000 - val_loss: 0.0010 - val_accuracy: 1.0000\n",
      "Epoch 77/150\n",
      "1/1 - 0s - loss: 0.0302 - accuracy: 1.0000 - val_loss: 8.6473e-04 - val_accuracy: 1.0000\n",
      "Epoch 78/150\n",
      "1/1 - 0s - loss: 0.0532 - accuracy: 1.0000 - val_loss: 0.0012 - val_accuracy: 1.0000\n",
      "Epoch 79/150\n",
      "1/1 - 0s - loss: 0.0080 - accuracy: 1.0000 - val_loss: 0.0017 - val_accuracy: 1.0000\n",
      "Epoch 80/150\n",
      "1/1 - 0s - loss: 0.0037 - accuracy: 1.0000 - val_loss: 0.0025 - val_accuracy: 1.0000\n",
      "Epoch 81/150\n",
      "1/1 - 0s - loss: 0.0019 - accuracy: 1.0000 - val_loss: 0.0036 - val_accuracy: 1.0000\n",
      "Epoch 82/150\n",
      "1/1 - 0s - loss: 9.4461e-04 - accuracy: 1.0000 - val_loss: 0.0051 - val_accuracy: 1.0000\n",
      "Epoch 83/150\n",
      "1/1 - 0s - loss: 6.4239e-04 - accuracy: 1.0000 - val_loss: 0.0073 - val_accuracy: 1.0000\n",
      "Epoch 84/150\n",
      "1/1 - 0s - loss: 4.3070e-04 - accuracy: 1.0000 - val_loss: 0.0108 - val_accuracy: 1.0000\n",
      "Epoch 85/150\n",
      "1/1 - 0s - loss: 4.8565e-04 - accuracy: 1.0000 - val_loss: 0.0172 - val_accuracy: 1.0000\n",
      "Epoch 86/150\n",
      "1/1 - 0s - loss: 4.7934e-04 - accuracy: 1.0000 - val_loss: 0.0376 - val_accuracy: 1.0000\n",
      "Epoch 87/150\n",
      "1/1 - 0s - loss: 2.7366e-04 - accuracy: 1.0000 - val_loss: 0.0946 - val_accuracy: 1.0000\n",
      "Epoch 88/150\n",
      "1/1 - 0s - loss: 4.6842e-04 - accuracy: 1.0000 - val_loss: 0.2097 - val_accuracy: 0.7500\n",
      "Epoch 89/150\n",
      "1/1 - 0s - loss: 3.2220e-04 - accuracy: 1.0000 - val_loss: 0.3827 - val_accuracy: 0.7500\n",
      "Epoch 90/150\n",
      "1/1 - 0s - loss: 5.1048e-04 - accuracy: 1.0000 - val_loss: 0.5911 - val_accuracy: 0.7500\n",
      "Epoch 91/150\n",
      "1/1 - 0s - loss: 8.2427e-04 - accuracy: 1.0000 - val_loss: 0.8122 - val_accuracy: 0.7500\n",
      "Epoch 92/150\n",
      "1/1 - 0s - loss: 4.8416e-04 - accuracy: 1.0000 - val_loss: 1.0330 - val_accuracy: 0.7500\n",
      "Epoch 93/150\n",
      "1/1 - 0s - loss: 6.2642e-04 - accuracy: 1.0000 - val_loss: 1.2367 - val_accuracy: 0.5000\n",
      "Epoch 94/150\n",
      "1/1 - 0s - loss: 0.0015 - accuracy: 1.0000 - val_loss: 1.3946 - val_accuracy: 0.5000\n",
      "Epoch 95/150\n",
      "1/1 - 0s - loss: 5.4903e-04 - accuracy: 1.0000 - val_loss: 1.5309 - val_accuracy: 0.5000\n",
      "Epoch 96/150\n",
      "1/1 - 0s - loss: 4.6991e-04 - accuracy: 1.0000 - val_loss: 1.6454 - val_accuracy: 0.5000\n",
      "Epoch 97/150\n",
      "1/1 - 0s - loss: 5.8319e-04 - accuracy: 1.0000 - val_loss: 1.7336 - val_accuracy: 0.5000\n",
      "Epoch 98/150\n",
      "1/1 - 0s - loss: 3.3364e-04 - accuracy: 1.0000 - val_loss: 1.7983 - val_accuracy: 0.5000\n",
      "Epoch 99/150\n",
      "1/1 - 0s - loss: 2.7044e-04 - accuracy: 1.0000 - val_loss: 1.8397 - val_accuracy: 0.5000\n",
      "Epoch 100/150\n",
      "1/1 - 0s - loss: 3.6327e-04 - accuracy: 1.0000 - val_loss: 1.8502 - val_accuracy: 0.5000\n",
      "Epoch 101/150\n",
      "1/1 - 0s - loss: 2.9174e-04 - accuracy: 1.0000 - val_loss: 1.8339 - val_accuracy: 0.5000\n",
      "Epoch 102/150\n",
      "1/1 - 0s - loss: 1.3734e-04 - accuracy: 1.0000 - val_loss: 1.7970 - val_accuracy: 0.5000\n",
      "Epoch 103/150\n",
      "1/1 - 0s - loss: 2.8922e-04 - accuracy: 1.0000 - val_loss: 1.7251 - val_accuracy: 0.5000\n",
      "Epoch 104/150\n",
      "1/1 - 0s - loss: 8.6095e-05 - accuracy: 1.0000 - val_loss: 1.6384 - val_accuracy: 0.5000\n",
      "Epoch 105/150\n",
      "1/1 - 0s - loss: 1.4667e-04 - accuracy: 1.0000 - val_loss: 1.5256 - val_accuracy: 0.5000\n",
      "Epoch 106/150\n",
      "1/1 - 0s - loss: 6.5977e-05 - accuracy: 1.0000 - val_loss: 1.4105 - val_accuracy: 0.5000\n",
      "Epoch 107/150\n",
      "1/1 - 0s - loss: 2.3611e-04 - accuracy: 1.0000 - val_loss: 1.2532 - val_accuracy: 0.7500\n",
      "Epoch 108/150\n",
      "1/1 - 0s - loss: 1.3869e-04 - accuracy: 1.0000 - val_loss: 1.0989 - val_accuracy: 0.7500\n",
      "Epoch 109/150\n",
      "1/1 - 0s - loss: 2.8905e-05 - accuracy: 1.0000 - val_loss: 0.9613 - val_accuracy: 0.7500\n",
      "Epoch 110/150\n",
      "1/1 - 0s - loss: 3.3331e-05 - accuracy: 1.0000 - val_loss: 0.8358 - val_accuracy: 0.7500\n",
      "Epoch 111/150\n",
      "1/1 - 0s - loss: 3.4901e-05 - accuracy: 1.0000 - val_loss: 0.7228 - val_accuracy: 0.7500\n",
      "Epoch 112/150\n",
      "1/1 - 0s - loss: 1.4287e-05 - accuracy: 1.0000 - val_loss: 0.6215 - val_accuracy: 0.7500\n",
      "Epoch 113/150\n",
      "1/1 - 0s - loss: 3.5325e-05 - accuracy: 1.0000 - val_loss: 0.5291 - val_accuracy: 0.7500\n",
      "Epoch 114/150\n",
      "1/1 - 0s - loss: 1.0549e-05 - accuracy: 1.0000 - val_loss: 0.4479 - val_accuracy: 0.7500\n",
      "Epoch 115/150\n",
      "1/1 - 0s - loss: 8.6866e-06 - accuracy: 1.0000 - val_loss: 0.3769 - val_accuracy: 0.7500\n",
      "Epoch 116/150\n",
      "1/1 - 0s - loss: 7.0167e-06 - accuracy: 1.0000 - val_loss: 0.3157 - val_accuracy: 0.7500\n",
      "Epoch 117/150\n",
      "1/1 - 0s - loss: 6.3423e-06 - accuracy: 1.0000 - val_loss: 0.2637 - val_accuracy: 0.7500\n",
      "Epoch 118/150\n",
      "1/1 - 0s - loss: 8.8248e-06 - accuracy: 1.0000 - val_loss: 0.2201 - val_accuracy: 0.7500\n",
      "Epoch 119/150\n",
      "1/1 - 0s - loss: 5.9727e-06 - accuracy: 1.0000 - val_loss: 0.1844 - val_accuracy: 0.7500\n",
      "Epoch 120/150\n",
      "1/1 - 0s - loss: 3.2099e-06 - accuracy: 1.0000 - val_loss: 0.1554 - val_accuracy: 1.0000\n",
      "Epoch 121/150\n",
      "1/1 - 0s - loss: 6.5690e-06 - accuracy: 1.0000 - val_loss: 0.1314 - val_accuracy: 1.0000\n",
      "Epoch 122/150\n",
      "1/1 - 0s - loss: 2.3476e-06 - accuracy: 1.0000 - val_loss: 0.1123 - val_accuracy: 1.0000\n",
      "Epoch 123/150\n",
      "1/1 - 0s - loss: 2.8727e-06 - accuracy: 1.0000 - val_loss: 0.0970 - val_accuracy: 1.0000\n",
      "Epoch 124/150\n",
      "1/1 - 0s - loss: 3.2405e-06 - accuracy: 1.0000 - val_loss: 0.0847 - val_accuracy: 1.0000\n",
      "Epoch 125/150\n",
      "1/1 - 0s - loss: 4.0646e-06 - accuracy: 1.0000 - val_loss: 0.0749 - val_accuracy: 1.0000\n",
      "Epoch 126/150\n",
      "1/1 - 0s - loss: 3.0785e-06 - accuracy: 1.0000 - val_loss: 0.0668 - val_accuracy: 1.0000\n",
      "Epoch 127/150\n",
      "1/1 - 0s - loss: 3.7621e-06 - accuracy: 1.0000 - val_loss: 0.0605 - val_accuracy: 1.0000\n",
      "Epoch 128/150\n",
      "1/1 - 0s - loss: 3.5932e-06 - accuracy: 1.0000 - val_loss: 0.0555 - val_accuracy: 1.0000\n",
      "Epoch 129/150\n",
      "1/1 - 0s - loss: 5.4346e-06 - accuracy: 1.0000 - val_loss: 0.0516 - val_accuracy: 1.0000\n",
      "Epoch 130/150\n",
      "1/1 - 0s - loss: 8.1518e-06 - accuracy: 1.0000 - val_loss: 0.0487 - val_accuracy: 1.0000\n",
      "Epoch 131/150\n",
      "1/1 - 0s - loss: 3.3135e-06 - accuracy: 1.0000 - val_loss: 0.0465 - val_accuracy: 1.0000\n",
      "Epoch 132/150\n",
      "1/1 - 0s - loss: 1.7777e-06 - accuracy: 1.0000 - val_loss: 0.0447 - val_accuracy: 1.0000\n",
      "Epoch 133/150\n",
      "1/1 - 0s - loss: 2.2095e-06 - accuracy: 1.0000 - val_loss: 0.0433 - val_accuracy: 1.0000\n",
      "Epoch 134/150\n",
      "1/1 - 0s - loss: 1.4410e-06 - accuracy: 1.0000 - val_loss: 0.0422 - val_accuracy: 1.0000\n",
      "Epoch 135/150\n",
      "1/1 - 0s - loss: 3.0868e-06 - accuracy: 1.0000 - val_loss: 0.0413 - val_accuracy: 1.0000\n",
      "Epoch 136/150\n",
      "1/1 - 0s - loss: 2.0018e-06 - accuracy: 1.0000 - val_loss: 0.0407 - val_accuracy: 1.0000\n",
      "Epoch 137/150\n",
      "1/1 - 0s - loss: 2.2431e-06 - accuracy: 1.0000 - val_loss: 0.0402 - val_accuracy: 1.0000\n",
      "Epoch 138/150\n",
      "1/1 - 0s - loss: 1.0999e-05 - accuracy: 1.0000 - val_loss: 0.0395 - val_accuracy: 1.0000\n",
      "Epoch 139/150\n",
      "1/1 - 0s - loss: 1.7009e-06 - accuracy: 1.0000 - val_loss: 0.0390 - val_accuracy: 1.0000\n",
      "Epoch 140/150\n",
      "1/1 - 0s - loss: 1.5021e-06 - accuracy: 1.0000 - val_loss: 0.0387 - val_accuracy: 1.0000\n",
      "Epoch 141/150\n",
      "1/1 - 0s - loss: 2.0338e-06 - accuracy: 1.0000 - val_loss: 0.0386 - val_accuracy: 1.0000\n",
      "Epoch 142/150\n",
      "1/1 - 0s - loss: 2.4816e-06 - accuracy: 1.0000 - val_loss: 0.0386 - val_accuracy: 1.0000\n",
      "Epoch 143/150\n",
      "1/1 - 0s - loss: 2.2863e-06 - accuracy: 1.0000 - val_loss: 0.0388 - val_accuracy: 1.0000\n",
      "Epoch 144/150\n",
      "1/1 - 0s - loss: 1.1621e-06 - accuracy: 1.0000 - val_loss: 0.0391 - val_accuracy: 1.0000\n",
      "Epoch 145/150\n",
      "1/1 - 0s - loss: 1.3594e-06 - accuracy: 1.0000 - val_loss: 0.0394 - val_accuracy: 1.0000\n",
      "Epoch 146/150\n",
      "1/1 - 0s - loss: 2.0253e-06 - accuracy: 1.0000 - val_loss: 0.0399 - val_accuracy: 1.0000\n",
      "Epoch 147/150\n",
      "1/1 - 0s - loss: 2.3185e-05 - accuracy: 1.0000 - val_loss: 0.0421 - val_accuracy: 1.0000\n",
      "Epoch 148/150\n",
      "1/1 - 0s - loss: 2.5341e-06 - accuracy: 1.0000 - val_loss: 0.0444 - val_accuracy: 1.0000\n",
      "Epoch 149/150\n",
      "1/1 - 0s - loss: 1.7914e-06 - accuracy: 1.0000 - val_loss: 0.0467 - val_accuracy: 1.0000\n",
      "Epoch 150/150\n",
      "1/1 - 0s - loss: 1.0235e-06 - accuracy: 1.0000 - val_loss: 0.0490 - val_accuracy: 1.0000\n"
     ]
    }
   ],
   "source": [
    "model.compile(loss='binary_crossentropy',optimizer='adam', metrics=['accuracy'])\n",
    "train_history =model.fit(x=train_Features, y=train_Label, validation_split=0.1, epochs=150, batch_size=200,verbose=2)"
   ],
   "metadata": {
    "collapsed": false,
    "pycharm": {
     "name": "#%%\n"
    }
   }
  },
  {
   "cell_type": "code",
   "execution_count": 37,
   "outputs": [
    {
     "name": "stdout",
     "output_type": "stream",
     "text": [
      "1/1 [==============================] - 0s 16ms/step - loss: 2.5536 - accuracy: 0.0000e+00\b\b\b\b\b\b\b\b\b\b\b\b\b\b\b\b\b\b\b\b\b\b\b\b\b\b\b\b\b\b\b\b\b\b\b\b\b\b\b\b\b\b\b\b\b\b\b\b\b\b\b\b\b\b\b\b\b\b\b\b\b\b\b\b\b\b\b\b\b\b\b\b\b\b\b\b\b\b\b\n"
     ]
    }
   ],
   "source": [
    "scores=model.evaluate(x=test_Features, y=test_Label)"
   ],
   "metadata": {
    "collapsed": false,
    "pycharm": {
     "name": "#%%\n"
    }
   }
  },
  {
   "cell_type": "code",
   "execution_count": 38,
   "outputs": [
    {
     "name": "stderr",
     "output_type": "stream",
     "text": [
      "C:\\Users\\choug\\anaconda3\\envs\\tensorflow\\lib\\site-packages\\tensorflow\\python\\keras\\engine\\sequential.py:450: UserWarning: `model.predict_classes()` is deprecated and will be removed after 2021-01-01. Please use instead:* `np.argmax(model.predict(x), axis=-1)`,   if your model does multi-class classification   (e.g. if it uses a `softmax` last-layer activation).* `(model.predict(x) > 0.5).astype(\"int32\")`,   if your model does binary classification   (e.g. if it uses a `sigmoid` last-layer activation).\n",
      "  warnings.warn('`model.predict_classes()` is deprecated and '\n",
      "C:\\Users\\choug\\anaconda3\\envs\\tensorflow\\lib\\site-packages\\tensorflow\\python\\keras\\engine\\sequential.py:425: UserWarning: `model.predict_proba()` is deprecated and will be removed after 2021-01-01. Please use `model.predict()` instead.\n",
      "  warnings.warn('`model.predict_proba()` is deprecated and '\n"
     ]
    }
   ],
   "source": [
    "all_Features,Label=PreprocessData(all_df)\n",
    "\n",
    "#利用網路去預測測試資料\n",
    "#predict_classes: 取出屬於第幾類\n",
    "all_probability=model.predict_classes(all_Features)\n",
    "#predict_proba: 取出每個預測的機率\n",
    "all_probability_score=model.predict_proba(all_Features)\n",
    "pd=all_df\n",
    "\n",
    "#把預測值存到表格\n",
    "pd.insert(len(all_df.columns), 'probability',all_probability)\n",
    "\n",
    "'''\n",
    "前兩個是test DATA\n",
    "'''\n",
    "predict=all_probability[:2]\n",
    "predict_score=all_probability_score[:2]\n",
    "predict=predict.tolist()\n",
    "predict_score=predict_score.tolist()"
   ],
   "metadata": {
    "collapsed": false,
    "pycharm": {
     "name": "#%%\n"
    }
   }
  },
  {
   "cell_type": "code",
   "execution_count": 39,
   "outputs": [
    {
     "data": {
      "text/plain": "<function TextIOWrapper.close()>"
     },
     "execution_count": 39,
     "metadata": {},
     "output_type": "execute_result"
    }
   ],
   "source": [
    "f1 = open(\"./\"+\"result\"+\".txt\", 'a', encoding = 'UTF-8')\n",
    "f1.write(str(int(test_Label[0]))+\"\\t\"+str(predict[0])+\"\\t\"+str(predict[1])+\"\\t\"+str(predict_score[0])+\"\\t\"+str(predict_score[1])+\"\\n\")\n",
    "f1.close\n"
   ],
   "metadata": {
    "collapsed": false,
    "pycharm": {
     "name": "#%%\n"
    }
   }
  }
 ],
 "metadata": {
  "kernelspec": {
   "display_name": "Python 3",
   "language": "python",
   "name": "python3"
  },
  "language_info": {
   "codemirror_mode": {
    "name": "ipython",
    "version": 2
   },
   "file_extension": ".py",
   "mimetype": "text/x-python",
   "name": "python",
   "nbconvert_exporter": "python",
   "pygments_lexer": "ipython2",
   "version": "2.7.6"
  }
 },
 "nbformat": 4,
 "nbformat_minor": 0
}